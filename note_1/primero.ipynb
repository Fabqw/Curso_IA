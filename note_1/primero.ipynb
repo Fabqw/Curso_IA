{
 "cells": [
  {
   "cell_type": "code",
   "execution_count": 1,
   "id": "97ff8628",
   "metadata": {},
   "outputs": [
    {
     "name": "stdout",
     "output_type": "stream",
     "text": [
      "La suma de 5 y 6 es 11.\n"
     ]
    }
   ],
   "source": [
    "a = 5\n",
    "b = 6\n",
    "c = a + b\n",
    "print(f\"La suma de {a} y {b} es {c}.\") "
   ]
  },
  {
   "cell_type": "code",
   "execution_count": null,
   "id": "b0e5dff9",
   "metadata": {},
   "outputs": [
    {
     "name": "stdout",
     "output_type": "stream",
     "text": [
      "0\n",
      "1\n",
      "1\n",
      "2\n",
      "2\n",
      "3\n",
      "3\n",
      "4\n",
      "4\n",
      "5\n",
      "5\n",
      "6\n",
      "6\n",
      "7\n",
      "7\n",
      "8\n",
      "8\n",
      "9\n",
      "9\n",
      "10\n",
      "Fin del bucle\n",
      "5\n",
      "7\n",
      "9\n",
      "10\n",
      "8\n",
      "6\n"
     ]
    }
   ],
   "source": [
    "# mostrar 10 elementos\n",
    "for i in range(10):\n",
    "    print(i)\n",
    "    print(i+1)\n",
    "print(\"Fin del bucle\")\n",
    "\n",
    "print(\"Salto de dos en dos\")\n",
    "for i in range(5, 10, 2):\n",
    "    print(i)\n",
    "\n",
    "print(\"Salto de dos en dos al revez\")\n",
    "for i in range(10, 5, -2):\n",
    "    print(i)"
   ]
  },
  {
   "cell_type": "code",
   "execution_count": 9,
   "id": "c44cc7f1",
   "metadata": {},
   "outputs": [
    {
     "name": "stdout",
     "output_type": "stream",
     "text": [
      "Recorriendo una lista\n",
      "8 2 9 7 5 3 6 4 1 0 \n",
      "Recorriendo una cadena de texto\n",
      "F, a, b, r, i, c, i, o, "
     ]
    }
   ],
   "source": [
    "print(\"Recorriendo una lista\")\n",
    "lista1 = [8,2,9,7,5,3,6,4,1,0]\n",
    "for i in lista1:\n",
    "    print(i, end =\" \")\n",
    "\n",
    "\n",
    "print(\"\\nRecorriendo una cadena de texto\")\n",
    "lista2 = \"Fabricio\"\n",
    "for i in lista2:\n",
    "    print(i, end = \", \" )"
   ]
  },
  {
   "cell_type": "code",
   "execution_count": 10,
   "id": "bfd24b12",
   "metadata": {},
   "outputs": [
    {
     "name": "stdout",
     "output_type": "stream",
     "text": [
      "La suma de 5 y 6 es: 11\n",
      "La resta de 5 y 6 es: -1\n",
      "La suma de 5 y 6 es: 11\n",
      "La resta de 5 y 6 es: -1\n"
     ]
    }
   ],
   "source": [
    "def suma(a, b):\n",
    "    return a + b\n",
    "\n",
    "def resta(a, b):\n",
    "    return a - b\n",
    "\n",
    "# F(g(x))\n",
    "def operacion(funcion, a, b):\n",
    "    return funcion(a, b)\n",
    "\n",
    "a = 5\n",
    "b = 6\n",
    "\n",
    "print(f\"La suma de {a} y {b} es: {suma(a,b)}\")\n",
    "print(f\"La resta de {a} y {b} es: {resta(a,b)}\")\n",
    "print(f\"La suma de {a} y {b} es: {operacion(suma, a, b)}\")\n",
    "print(f\"La resta de {a} y {b} es: {operacion(resta, a, b)}\")"
   ]
  }
 ],
 "metadata": {
  "kernelspec": {
   "display_name": "Python 3",
   "language": "python",
   "name": "python3"
  },
  "language_info": {
   "codemirror_mode": {
    "name": "ipython",
    "version": 3
   },
   "file_extension": ".py",
   "mimetype": "text/x-python",
   "name": "python",
   "nbconvert_exporter": "python",
   "pygments_lexer": "ipython3",
   "version": "3.12.1"
  }
 },
 "nbformat": 4,
 "nbformat_minor": 5
}
