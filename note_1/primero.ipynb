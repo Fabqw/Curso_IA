{
 "cells": [
  {
   "cell_type": "code",
   "execution_count": 1,
   "id": "97ff8628",
   "metadata": {},
   "outputs": [
    {
     "name": "stdout",
     "output_type": "stream",
     "text": [
      "La suma de 5 y 6 es 11.\n"
     ]
    }
   ],
   "source": [
    "a = 5\n",
    "b = 6\n",
    "c = a + b\n",
    "print(f\"La suma de {a} y {b} es {c}.\") "
   ]
  },
  {
   "cell_type": "code",
   "execution_count": null,
   "id": "b0e5dff9",
   "metadata": {},
   "outputs": [
    {
     "name": "stdout",
     "output_type": "stream",
     "text": [
      "0\n",
      "1\n",
      "1\n",
      "2\n",
      "2\n",
      "3\n",
      "3\n",
      "4\n",
      "4\n",
      "5\n",
      "5\n",
      "6\n",
      "6\n",
      "7\n",
      "7\n",
      "8\n",
      "8\n",
      "9\n",
      "9\n",
      "10\n",
      "Fin del bucle\n",
      "5\n",
      "7\n",
      "9\n",
      "10\n",
      "8\n",
      "6\n"
     ]
    }
   ],
   "source": [
    "# mostrar 10 elementos\n",
    "for i in range(10):\n",
    "    print(i)\n",
    "    print(i+1)\n",
    "print(\"Fin del bucle\")\n",
    "\n",
    "print(\"Salto de dos en dos\")\n",
    "for i in range(5, 10, 2):\n",
    "    print(i)\n",
    "\n",
    "print(\"Salto de dos en dos al revez\")\n",
    "for i in range(10, 5, -2):\n",
    "    print(i)"
   ]
  },
  {
   "cell_type": "code",
   "execution_count": 9,
   "id": "c44cc7f1",
   "metadata": {},
   "outputs": [
    {
     "name": "stdout",
     "output_type": "stream",
     "text": [
      "Recorriendo una lista\n",
      "8 2 9 7 5 3 6 4 1 0 \n",
      "Recorriendo una cadena de texto\n",
      "F, a, b, r, i, c, i, o, "
     ]
    }
   ],
   "source": [
    "print(\"Recorriendo una lista\")\n",
    "lista1 = [8,2,9,7,5,3,6,4,1,0]\n",
    "for i in lista1:\n",
    "    print(i, end =\" \")\n",
    "\n",
    "\n",
    "print(\"\\nRecorriendo una cadena de texto\")\n",
    "lista2 = \"Fabricio\"\n",
    "for i in lista2:\n",
    "    print(i, end = \", \" )"
   ]
  },
  {
   "cell_type": "code",
   "execution_count": 10,
   "id": "bfd24b12",
   "metadata": {},
   "outputs": [
    {
     "name": "stdout",
     "output_type": "stream",
     "text": [
      "La suma de 5 y 6 es: 11\n",
      "La resta de 5 y 6 es: -1\n",
      "La suma de 5 y 6 es: 11\n",
      "La resta de 5 y 6 es: -1\n"
     ]
    }
   ],
   "source": [
    "def suma(a, b):\n",
    "    return a + b\n",
    "\n",
    "def resta(a, b):\n",
    "    return a - b\n",
    "\n",
    "# F(g(x))\n",
    "def operacion(funcion, a, b):\n",
    "    return funcion(a, b)\n",
    "\n",
    "a = 5\n",
    "b = 6\n",
    "\n",
    "print(f\"La suma de {a} y {b} es: {suma(a,b)}\")\n",
    "print(f\"La resta de {a} y {b} es: {resta(a,b)}\")\n",
    "print(f\"La suma de {a} y {b} es: {operacion(suma, a, b)}\")\n",
    "print(f\"La resta de {a} y {b} es: {operacion(resta, a, b)}\")"
   ]
  },
  {
   "cell_type": "code",
   "execution_count": 12,
   "id": "9fa85b00",
   "metadata": {},
   "outputs": [
    {
     "name": "stdout",
     "output_type": "stream",
     "text": [
      "Lista: [0, 1, 2, 3, 4, 5, 6, 7, 8, 9]\n",
      "Lista de 4: [4, 4, 4, 4, 4, 4, 4, 4, 4, 4]\n",
      "40\n",
      "12\n"
     ]
    }
   ],
   "source": [
    "lista = [i for i in range(10)]\n",
    "print(f\"Lista: {lista}\")\n",
    "\n",
    "listaSum = [4 for i in range(10)]\n",
    "print(f\"Lista de 4: {listaSum}\")\n",
    "print(sum(listaSum))\n",
    "\n",
    "def multiplicacion(a,b):\n",
    "    return sum([a for i in range(b)])\n",
    "\n",
    "print(multiplicacion(3,4))"
   ]
  },
  {
   "cell_type": "markdown",
   "id": "787a6611",
   "metadata": {},
   "source": []
  },
  {
   "cell_type": "code",
   "execution_count": 15,
   "id": "39050c48",
   "metadata": {},
   "outputs": [
    {
     "name": "stdout",
     "output_type": "stream",
     "text": [
      "Lista de numeros: [5, 6, 8, 9, 10, 11, 12, 13, 14, 15]\n",
      "Vector: \n",
      "[ 5  6  8  9 10 11 12 13 14 15]\n",
      "Matriz normal: [[1, 2, 3, 4], [4, 5, 6, 7], [7, 8, 9, 11]]\n",
      "Matriz: \n",
      "[[ 1  2  3  4]\n",
      " [ 4  5  6  7]\n",
      " [ 7  8  9 11]]\n"
     ]
    }
   ],
   "source": [
    "import numpy as np\n",
    "# vector\n",
    "litsaNorma = [5,6,8,9,10,11,12,13,14,15]\n",
    "vector = np.array(litsaNorma)\n",
    "print(f\"Lista de numeros: {litsaNorma}\")\n",
    "print(f\"Vector: \\n{vector}\")\n",
    "\n",
    "# matriz\n",
    "matrizNormal = [[1,2,3,4],[4,5,6,7],[7,8,9,11]]\n",
    "matriz = np.array(matrizNormal)\n",
    "print(f\"Matriz normal: {matrizNormal}\")\n",
    "print(f\"Matriz: \\n{matriz}\")"
   ]
  },
  {
   "cell_type": "code",
   "execution_count": null,
   "id": "ddcd4bb5",
   "metadata": {},
   "outputs": [
    {
     "name": "stdout",
     "output_type": "stream",
     "text": [
      "10.3\n",
      "5.583333333333333\n",
      "10.5\n",
      "5.5\n",
      "[[ 1  2  3  4]\n",
      " [ 4  5  6  7]\n",
      " [ 7  8  9 11]]\n",
      "[4.         5.         6.         7.33333333]\n",
      "[2.5  5.5  8.75]\n",
      "2.8418988174966557\n"
     ]
    }
   ],
   "source": [
    "# mediana\n",
    "print(np.mean(vector))\n",
    "print(np.mean(matriz))\n",
    "\n",
    "#media\n",
    "print(np.median(vector))\n",
    "print(np.median(matriz))\n",
    "\n",
    "# media por columas axis 0\n",
    "# media por filas axis 1\n",
    "print(matriz)\n",
    "print(np.mean(matriz, axis=0))\n",
    "print(np.mean(matriz, axis=1))\n",
    "\n",
    "#desviacion estandar\n",
    "print(np.std(matriz))\n",
    "\n",
    "# comportamiento normal de "
   ]
  }
 ],
 "metadata": {
  "kernelspec": {
   "display_name": "Python 3",
   "language": "python",
   "name": "python3"
  },
  "language_info": {
   "codemirror_mode": {
    "name": "ipython",
    "version": 3
   },
   "file_extension": ".py",
   "mimetype": "text/x-python",
   "name": "python",
   "nbconvert_exporter": "python",
   "pygments_lexer": "ipython3",
   "version": "3.12.1"
  }
 },
 "nbformat": 4,
 "nbformat_minor": 5
}
